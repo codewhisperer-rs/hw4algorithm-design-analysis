{
 "cells": [
  {
   "cell_type": "markdown",
   "metadata": {},
   "source": [
    "## algorithm design and anlysis-2025 spring  homework 2\n",
    "**Deadline**：2025.5.14\n",
    "\n",
    "**name**:\n",
    "\n",
    "\n",
    "\n",
    "note：\n",
    "---\n",
    "1. 带有\\*的题目，申请免上课的同学，必须完成，其他同学选作；\n",
    "2. 请独立完成，如求助了他人或者大模型，请著明，并且不可省略算法分析部分；\n",
    "4. 如若作答有雷同，全部取消成绩；\n",
    "3. 需要书面作答的题目，可以通过引用图片的形式添加，但是注意上传项目时包含所引用的图片的源文件；\n",
    "4. $log_n$ 默认表示$log_2{n}$;"
   ]
  },
  {
   "cell_type": "markdown",
   "metadata": {},
   "source": [
    "### 本次作业基于大模型辅助完成的作业题已在idea处或者code处进行声明"
   ]
  },
  {
   "cell_type": "markdown",
   "metadata": {},
   "source": [
    "## 问题 1  \n",
    "\n",
    "> 给定一个已排序的链表的头 `head` ， *删除所有重复的元素，使每个元素只出现一次* 。返回 *已排序的链表* 。链表的类如下所示：\n",
    "\n",
    "```python\n",
    "class NodeList:\n",
    "    def __init__(self, val=None, right=None):\n",
    "        self.val   = val\n",
    "        self.right = right\n",
    "```\n",
    "\n",
    "输入是一个数组，你首先需要将数组转化为链表，然后删除链表中的重复元素，再遍历链表元素，以一个数组的形式返回。请设计一个算法解决上述任务，分析算法设计思路，计算时间复杂度, 并基于python编程实现。\n",
    "\n",
    "e.g.  输入：head=[1, 1, 2, 3, 3]   输出：[1, 2, 3]\n",
    "\n",
    "![image-20240502110020439](./fig/hw2q1.png)\n",
    "\n"
   ]
  },
  {
   "cell_type": "markdown",
   "metadata": {},
   "source": [
    "idea：从图中可以看到链表已经是排序好的了，所以说要删除重复的数字，只保留其中一个，只需要用当前节点与下一个节点进行比较即可：\n",
    "1. 如果当前节点值与下一个节点值相同，则删除下一个节点\n",
    "2. 如果不同，则移动到下一个节点继续比较"
   ]
  },
  {
   "cell_type": "code",
   "execution_count": 3,
   "metadata": {},
   "outputs": [
    {
     "name": "stdout",
     "output_type": "stream",
     "text": [
      "[1, 2, 3]\n"
     ]
    }
   ],
   "source": [
    "# add your idea here\n",
    "class NodeList:\n",
    "    def __init__(self, val=None, right=None):\n",
    "        self.val = val\n",
    "        self.right = right\n",
    "\n",
    "def delete(head):\n",
    "    if not head:\n",
    "        return None\n",
    "    \n",
    "    current = head\n",
    "    \n",
    "    while current.right:\n",
    "        if current.val == current.right.val:\n",
    "            current.right = current.right.right\n",
    "        else:\n",
    "            current = current.right\n",
    "    return head\n",
    "\n",
    "def array_to_linked_list(arr):\n",
    "    if not arr:\n",
    "        return None\n",
    "    \n",
    "    head = NodeList(arr[0])\n",
    "    current = head\n",
    "    \n",
    "    for val in arr[1:]:\n",
    "        current.right = NodeList(val)\n",
    "        current = current.right\n",
    "    \n",
    "    return head\n",
    "\n",
    "def linked_list_to_array(head):\n",
    "    result = []\n",
    "    current = head\n",
    "    \n",
    "    while current:\n",
    "        result.append(current.val)\n",
    "        current = current.right\n",
    "    \n",
    "    return result\n",
    "\n",
    "def solution(arr):\n",
    "    head = array_to_linked_list(arr)\n",
    "    head = delete(head)\n",
    "\n",
    "    return linked_list_to_array(head)\n",
    "\n",
    "test_input = [1, 1, 2, 3, 3]\n",
    "result = solution(test_input)\n",
    "print(result) \n",
    "# your algorithm time complexity is:时间复杂度为O（n），因为遍历了一遍链表，执行n次，也就是节点数量"
   ]
  },
  {
   "cell_type": "markdown",
   "metadata": {},
   "source": [
    "## 问题 2  \n",
    "\n",
    "> 下面是一个经典的算法问题：\n",
    ">\n",
    "> - 给定包含n个整数的一个整数数组 `nums` 和一个整数目标值 `target`，请你在该数组中找出 **和为目标值** *`target`* 的那 **两个** 整数，并返回它们的**数组下标**。假设每种输入只会对应一个答案。但是，数组中同一个元素在答案里不能重复出现。你可以按任意顺序返回答案。\n",
    ">\n",
    "> 由于要多次查找数组中元素的位置，为了提高查询效率可以使用哈希表来存储数组中的数据，在哈希表中查询一个元素的复杂度为O(1)。 已知python中的字典是使用哈希表实现的，即使用`dict[key]`查询对应的value时间复杂度为O(1), python提供了查询字典是否包含某个key的功能：`key in dict`，时间复杂度也是O(1)\n",
    "\n",
    "请根据上面信息，设计一个时间复杂度为O(n) 的算法，解决上述算法问题\n",
    "\n",
    "e.g.   \n",
    "\n",
    "输入：nums=[2,7,11,15], target=9， 输出：[0，1]\n",
    "\n",
    "输入：nums=[3,2,4], target=6, 输出：[1,2]\n",
    "\n",
    "输入：nums=[3,3], target=6,  输出：[0,1]\n"
   ]
  },
  {
   "cell_type": "markdown",
   "metadata": {},
   "source": [
    "### add your idea here\n",
    "\n",
    "1. 创建一个哈希表\n",
    "2. 遍历数组中的每个元素 num\n",
    "3. 计算补数 complement = target - num\n",
    "4. 检查补数是否已在哈希表中\n",
    "- 如果在，则找到了答案\n",
    "- 如果不在，将当前数及其索引添加到哈希表中\n"
   ]
  },
  {
   "cell_type": "code",
   "execution_count": 4,
   "metadata": {},
   "outputs": [
    {
     "name": "stdout",
     "output_type": "stream",
     "text": [
      "[0, 1]\n",
      "[1, 2]\n",
      "[0, 1]\n"
     ]
    }
   ],
   "source": [
    "def two_sum(nums, target):\n",
    "    num_map = {}\n",
    "    for i, num in enumerate(nums):\n",
    "        complement = target - num\n",
    "        if complement in num_map:\n",
    "            return [num_map[complement], i]\n",
    "        num_map[num] = i\n",
    "\n",
    "    return []\n",
    "\n",
    "print(two_sum([2,7,11,15], 9))  \n",
    "print(two_sum([3,2,4], 6))      \n",
    "print(two_sum([3,3], 6))        \n",
    "# your algorithm time complexity is: O(n)"
   ]
  },
  {
   "cell_type": "markdown",
   "metadata": {},
   "source": [
    "## 问题 3:   \n",
    "\n",
    "> 栈是一种常用的数据结构，编译器中通常使用栈来实现表达式求值。\n",
    ">\n",
    "> 以表达式 $3+5 \\times 8-6$​ 为例。编译器使用两个栈来完成运算，即一个栈保持操作数，另一个栈保存运算符。\n",
    ">\n",
    "> 1. 从左向右遍历表达式，遇到数字就压入操作数栈；\n",
    ">\n",
    "> 2. 遇到运算符，就与运算符栈的栈顶元素进行比较。如果比运算符栈顶元素的优先级高，就将当前运算符压入栈；如果比运算符栈顶元素的优先级低或者相同，从运算符栈中取栈顶运算符，从操作数栈的栈顶取 2 个操作数，然后进行计算，再把计算完的结果压入操作数栈，继续比较。\n",
    ">\n",
    "> 下图是 $3+5 \\times 8-6$  这个表达式的计算过程：\n",
    "\n",
    "![figure](./fig/hw2q3.png)\n",
    "\n",
    "根据上述原理，请设计一个算法完成表达式的运算，当输入为表达式字符串，返回对应的计算结果。分析算法设计思路，计算时间复杂度，并基于python编程实现\n",
    "\n",
    "**note：**\n",
    "\n",
    "1. 假设输入的表达式只会出现加（“+”），减 “-”， 乘“*”，除 “/” 四个运算符, 表达式中只会出现正整数\n",
    "2. python中` str.isdigit()`函数可以判断字符串str是否为数字，\n",
    "\n",
    "\n",
    "\n",
    "e.g. :\n",
    "---\n",
    "\n",
    "1. 输入：“$3+5 * 8 -6$”   输出：37\n",
    "\n",
    "2. 输入：“$34+13*9 + 44-12/3$”  输出：191"
   ]
  },
  {
   "cell_type": "markdown",
   "metadata": {},
   "source": [
    "idea：\n",
    "1. 使用两个栈：一个操作数栈和一个运算符栈\n",
    "2. 从左到右遍历表达式：\n",
    "- 遇到数字时，将其压入操作数栈\n",
    "- 遇到运算符时，根据优先级规则进行处理：\n",
    "  - 如果当前运算符优先级高于栈顶运算符，将当前运算符入栈\n",
    "  - 如果当前运算符优先级低于或等于栈顶运算符，则弹出栈顶运算符和两个操作数进行计算，然后将结果压回操作数栈，继续比较\n",
    "3. 遍历完表达式后，处理运算符栈中剩余的运算符"
   ]
  },
  {
   "cell_type": "code",
   "execution_count": 1,
   "metadata": {},
   "outputs": [
    {
     "name": "stdout",
     "output_type": "stream",
     "text": [
      "37\n",
      "191\n"
     ]
    }
   ],
   "source": [
    "# add your idea here\n",
    "def calculate_expression(expression):\n",
    "    expression = expression.replace(\" \", \"\")\n",
    "    \n",
    "    precedence = {'+': 1, '-': 1, '*': 2, '/': 2}\n",
    "    \n",
    "    operands = []  # 操作数栈\n",
    "    operators = []  # 运算符栈\n",
    "    \n",
    "    i = 0\n",
    "    while i < len(expression):\n",
    "        if expression[i].isdigit():\n",
    "            num = 0\n",
    "            while i < len(expression) and expression[i].isdigit():\n",
    "                num = num * 10 + int(expression[i])\n",
    "                i += 1\n",
    "            operands.append(num)\n",
    "        else:\n",
    "            current_op = expression[i]\n",
    "            \n",
    "            # 根据优先级处理运算符\n",
    "            while operators and operators[-1] in precedence and precedence.get(current_op, 0) <= precedence.get(operators[-1], 0):\n",
    "                # 取出运算符和操作数进行计算\n",
    "                op = operators.pop()\n",
    "                b = operands.pop()\n",
    "                a = operands.pop()\n",
    "                \n",
    "                # 执行运算并将结果压回栈中\n",
    "                if op == '+':\n",
    "                    operands.append(a + b)\n",
    "                elif op == '-':\n",
    "                    operands.append(a - b)\n",
    "                elif op == '*':\n",
    "                    operands.append(a * b)\n",
    "                elif op == '/':\n",
    "                    operands.append(a // b)  \n",
    "           \n",
    "            operators.append(current_op)\n",
    "            i += 1\n",
    "    \n",
    "    while operators:\n",
    "        op = operators.pop()\n",
    "        b = operands.pop()\n",
    "        a = operands.pop()\n",
    "        \n",
    "        if op == '+':\n",
    "            operands.append(a + b)\n",
    "        elif op == '-':\n",
    "            operands.append(a - b)\n",
    "        elif op == '*':\n",
    "            operands.append(a * b)\n",
    "        elif op == '/':\n",
    "            operands.append(a // b)\n",
    "    \n",
    "    # 最终结果应该在操作数栈的顶部\n",
    "    return operands[0]\n",
    "print(calculate_expression(\"3+5*8-6\"))  \n",
    "print(calculate_expression(\"34+13*9+44-12/3\"))  \n",
    "# your algorithm time complexity is: O(n)，其中n是表达式的长度"
   ]
  },
  {
   "cell_type": "markdown",
   "metadata": {},
   "source": [
    "## 问题 4:  \n",
    "\n",
    "> 星球碰撞问题：现有n个星球，在同一条直线上运行，如数组A所示，元素的绝对值表示星球的质量，负数表示星球自右向左运动，正数表示星球自左向右运动，当两个星球相撞的时候，质量小的会消失，大的保持不变，**质量相同的两个星球碰撞后自右向左运动的星球消失，自左向右的星球保持不变**，假设所有星球的速度大小相同。\n",
    ">\n",
    "> $ A=[23,-8, 9, -3, -7, 9, -23, 22] $\n",
    "\n",
    "请设计一个算法模拟星球的运行情况，输出最终的星球存续情况（输出一个数组），分析算法设计思路，计算时间复杂度，并基于python编程实现。\n",
    "\n",
    "e.g.\n",
    "---\n",
    "1.  输入： A=[-3,-6,2,8, 5,-8,9,-2,1]， 输出：[-3, -6, 2, 8, 9, 1]\n",
    "\n",
    "2. 输入：A=[23,-8, 9, -3, -7, 9, -23, 22], 输出：[23, 22]\n",
    "\n"
   ]
  },
  {
   "cell_type": "markdown",
   "metadata": {},
   "source": [
    "idea：\n",
    "1. 定义一个结果数组，用来存储最终留下的星球\n",
    "2. 从左到右遍历原始数组，模拟星球的移动和碰撞\n",
    "3. 处理碰撞时，检查结果数组中最后添加的星球是否会与当前星球碰撞"
   ]
  },
  {
   "cell_type": "code",
   "execution_count": null,
   "metadata": {},
   "outputs": [
    {
     "name": "stdout",
     "output_type": "stream",
     "text": [
      "[-3, -6, 2, 8, 9, 1]\n",
      "[23, 22]\n"
     ]
    }
   ],
   "source": [
    "def planet(arr):\n",
    "    result = []  \n",
    "    \n",
    "    for planet_mass in arr:\n",
    "        if planet_mass < 0:\n",
    "            while result and result[-1] > 0: \n",
    "                if abs(result[-1]) > abs(planet_mass):\n",
    "                    planet_mass = 0  \n",
    "                    break\n",
    "                elif abs(result[-1]) < abs(planet_mass):\n",
    "                    result.pop()\n",
    "                else:\n",
    "                    planet_mass = 0  \n",
    "                    break\n",
    "            if planet_mass != 0:\n",
    "                result.append(planet_mass)\n",
    "        else:\n",
    "            result.append(planet_mass)\n",
    "    \n",
    "    return result\n",
    "\n",
    "a = [-3, -6, 2, 8, 5, -8, 9, -2, 1]\n",
    "b = [23, -8, 9, -3, -7, 9, -23, 22]\n",
    "\n",
    "print(planet(a)) \n",
    "print(planet(b))  \n",
    "#时间复杂度O(n)，其中n是星球数量。尽管有嵌套循环，但每个星球最多入栈和出栈一次，因此总操作次数为O(n)"
   ]
  },
  {
   "cell_type": "markdown",
   "metadata": {},
   "source": [
    "## 问题 5 \n",
    "\n",
    "> 给定一个无序数组nums=[9,-3,-10,0,9,7,33]，请建立一个二叉搜索树存储数组中的所有元素，之后删除二叉树中的元素“0”，再使用中序遍历输出二叉搜索树中的所有元素。\n",
    "\n",
    "使用python编程完成上述任务，并计算时间复杂度\n"
   ]
  },
  {
   "cell_type": "markdown",
   "metadata": {},
   "source": [
    "idea：\n",
    "1. 定义二叉搜索树的节点结构\n",
    "2. 实现向二叉搜索树中插入元素的函数\n",
    "3. 实现从二叉搜索树中删除节点的函数\n",
    "4. 实现中序遍历二叉搜索树的函数"
   ]
  },
  {
   "cell_type": "code",
   "execution_count": null,
   "metadata": {},
   "outputs": [
    {
     "name": "stdout",
     "output_type": "stream",
     "text": [
      "[-10, -3, 7, 9, 9, 33]\n"
     ]
    }
   ],
   "source": [
    "# add your idea here\n",
    "class TreeNode:\n",
    "    def __init__(self, val=0):\n",
    "        self.val = val\n",
    "        self.left = None\n",
    "        self.right = None\n",
    "\n",
    "def insert(root, val):\n",
    "    if not root:\n",
    "        return TreeNode(val)\n",
    "    \n",
    "    if val < root.val:\n",
    "        root.left = insert(root.left, val)\n",
    "    else:\n",
    "        root.right = insert(root.right, val)\n",
    "    \n",
    "    return root\n",
    "\n",
    "def delete(root, val):\n",
    "    if not root:\n",
    "        return None\n",
    "    \n",
    "    if val < root.val:\n",
    "        root.left = delete(root.left, val)\n",
    "    elif val > root.val:\n",
    "        root.right = delete(root.right, val)\n",
    "    else:\n",
    "        if not root.left:\n",
    "            return root.right\n",
    "        if not root.right:\n",
    "            return root.left\n",
    "        temp = root.right\n",
    "        while temp.left:\n",
    "            temp = temp.left\n",
    "        root.val = temp.val\n",
    "        root.right = delete(root.right, temp.val)\n",
    "    \n",
    "    return root\n",
    "def inorder(root, result):\n",
    "    if root:\n",
    "        inorder(root.left, result)\n",
    "        result.append(root.val)\n",
    "        inorder(root.right, result)\n",
    "    return result\n",
    "\n",
    "def bst_process(nums):\n",
    "    root = None\n",
    "    for num in nums:\n",
    "        root = insert(root, num)\n",
    "    root = delete(root, 0)\n",
    "    return inorder(root, [])\n",
    "\n",
    "nums = [9, -3, -10, 0, 9, 7, 33]\n",
    "print(bst_process(nums)) \n",
    "# your algorithm time complexity is:O(nlogn)"
   ]
  },
  {
   "cell_type": "markdown",
   "metadata": {},
   "source": [
    "## 问题 6  \n",
    "\n",
    "> 给定一个包含大写字母和小写字母的字符串 s ，返回 字符串包含的 **最长的回文子串的长度** 。请注意 区分大小写 。比如 \"Aa\" 不能当做一个回文字符串。\n",
    ">\n",
    "\n",
    "请设计一个算法解决上述问题，只需要输出最长回文子串的长度，分析算法设计思路，计算时间复杂度，并基于python编程实现\n",
    "\n",
    "e.g. 输入： s=\"adccaccd\"，  输出：7。 最长回文子串为：\"dccaccd\", 长度为7\n"
   ]
  },
  {
   "cell_type": "markdown",
   "metadata": {},
   "source": [
    "idea：\n",
    "1. 遍历字符串中的每个字符作为可能的回文中心\n",
    "2. 对于每个中心，向两边扩展，检查是否形成回文\n",
    "3. 需要考虑两种回文类型：\n",
    "- 奇数长度回文\n",
    "- 偶数长度回文"
   ]
  },
  {
   "cell_type": "code",
   "execution_count": null,
   "metadata": {},
   "outputs": [
    {
     "name": "stdout",
     "output_type": "stream",
     "text": [
      "长度为: 7\n"
     ]
    }
   ],
   "source": [
    "# add your idea here\n",
    "def length(s):\n",
    "    if not s:\n",
    "        return 0\n",
    "    \n",
    "    max_length = 0\n",
    "    \n",
    "    for i in range(len(s)):\n",
    "        # 奇数长度回文\n",
    "        max_length = max(max_length, a(s, i, i))\n",
    "        # 偶数长度回文\n",
    "        max_length = max(max_length, a(s, i, i+1))\n",
    "    \n",
    "    return max_length\n",
    "\n",
    "def a(s, left, right):\n",
    "    while left >= 0 and right < len(s) and s[left] == s[right]:\n",
    "        left -= 1\n",
    "        right += 1\n",
    "    return right - left - 1\n",
    "\n",
    "test_string = \"adccaccd\"\n",
    "print(\"长度为:\", length(test_string))  \n",
    "# your algorithm time complexity is:O(n^2)，其中n是字符串的长度。最坏情况下，需要检查每个字符作为中心的回文长度，时间复杂度为O(n^2)。\n"
   ]
  },
  {
   "cell_type": "markdown",
   "metadata": {},
   "source": [
    "## 问题 7 \n",
    "\n",
    "> 沿一条长河流分散着n座房子。你可以把这条河想象成一条轴，房子是由它们在这条轴上的坐标按顺序排列的。你的公司想在河边的特定地点设置手机基站，这样每户人家都在距离基站4公里的范围内。输入可以看作为一个升序数组，数组元素的取值为大于等于0的正整数，你需要输出最小基站的数目，基站的位置。\n",
    "\n",
    "1. 给出一个时间复杂度为$O(n$) 的算法，使所使用的基站数量最小化，分析算法设计思路，使用python编程实现\n",
    "2. 证明1.中算法产生了最优解决方案。\n",
    "\n",
    "e.g. \n",
    "\n",
    "输入： [1, 5, 12, 33, 34,35]  输出：基站数目为3， 基站位置为[1，12，33]\n",
    "\n"
   ]
  },
  {
   "cell_type": "markdown",
   "metadata": {},
   "source": [
    "idea：\n",
    "1. 贪心算法：每次选择最左边未覆盖的房子，放一个基站在它的位置，覆盖它和右侧4公里范围内的所有房子。\n",
    "2. 然后跳到下一个未被当前基站覆盖的房子，重复上述过程，直到所有房子都被覆盖。\n",
    "3. 时间复杂度O(n)，只需遍历一次数组。\n"
   ]
  },
  {
   "cell_type": "code",
   "execution_count": 9,
   "metadata": {},
   "outputs": [
    {
     "name": "stdout",
     "output_type": "stream",
     "text": [
      "基站数目为3，基站位置为[1, 12, 33]\n"
     ]
    }
   ],
   "source": [
    "# add your idea here\n",
    "def house(houses):\n",
    "    n = len(houses)\n",
    "    stations = []\n",
    "    i = 0\n",
    "    while i < n:\n",
    "        # 以当前房子为基站位置\n",
    "        loc = houses[i]\n",
    "        stations.append(loc)\n",
    "        # 跳过所有在当前基站4公里范围内的房子\n",
    "        while i < n and houses[i] <= loc + 4:\n",
    "            i += 1\n",
    "    return len(stations), stations\n",
    "\n",
    "houses = [1, 5, 12, 33, 34, 35]\n",
    "num, pos = house(houses)\n",
    "print(f\"基站数目为{num}，基站位置为{pos}\")\n",
    "# your algorithm time complexity is: O(n)，其中n是房子的数量。每个房子最多被访问一次，时间复杂度为O(n)。"
   ]
  },
  {
   "cell_type": "markdown",
   "metadata": {},
   "source": [
    "问题2:\n",
    "最优性证明简述：\n",
    "1. 每次都尽量让一个基站覆盖尽可能多的房子，且每个基站都放在当前未覆盖房子的最左侧，\n",
    "2. 这样不会浪费任何基站的覆盖范围，属于贪心策略。若有更优方案，则必然有基站能覆盖更多房子，\n",
    "3. 但本算法每次都最大化覆盖，因此是最优的。"
   ]
  },
  {
   "cell_type": "markdown",
   "metadata": {},
   "source": [
    "## 问题 8  \n",
    "\n",
    "> 给定由n个正整数组成的一个集合$S = \\{a_1, a_2，···，a_n\\}$和一个正整数W，设计一个算法确定是否存在S的一个子集 $K \\subseteq S$, 使K中所有数之和为 $W$, 如果存在返回“True”，否则返回“False”\n",
    "\n",
    "请设计一个时间复杂度为$O(nW)$动态规划算法，解决上述问题，分析算法的设计思路，并且基于python编程实现（不需要输出子集）。\n",
    "\n",
    "e.g. \n",
    "\n",
    "输入：S = {1,4,7,3,5}， W = 11，输出：True。   因为K可以是{4,7}。\n",
    "\n"
   ]
  },
  {
   "cell_type": "markdown",
   "metadata": {},
   "source": [
    "idea：\n",
    "1. 动态规划思路：\n",
    "2. 定义dp[i][w]表示前i个数能否组成和为w的子集\n",
    "3. 状态转移：dp[i][w] = dp[i-1][w] or dp[i-1][w-nums[i-1]]（如果w-nums[i-1]>=0）\n",
    "4. 初始：dp[0][0]=True，其余为False\n",
    "5. 最终答案：dp[n][W]"
   ]
  },
  {
   "cell_type": "code",
   "execution_count": null,
   "metadata": {},
   "outputs": [
    {
     "name": "stdout",
     "output_type": "stream",
     "text": [
      "True\n"
     ]
    }
   ],
   "source": [
    "# add your idea here\n",
    "def subset_sum(S, W):\n",
    "    n = len(S)\n",
    "    dp = [[False] * (W + 1) for _ in range(n + 1)]\n",
    "    for i in range(n + 1):\n",
    "        dp[i][0] = True  \n",
    "\n",
    "    for i in range(1, n + 1):\n",
    "        for w in range(W + 1):\n",
    "            dp[i][w] = dp[i-1][w]\n",
    "            if w >= S[i-1]:\n",
    "                dp[i][w] = dp[i][w] or dp[i-1][w - S[i-1]]\n",
    "    return dp[n][W]\n",
    "\n",
    "S = [1, 4, 7, 3, 5]\n",
    "W = 11\n",
    "print(subset_sum(S, W))  \n",
    "# your algorithm time complexity is: O(nW)"
   ]
  },
  {
   "cell_type": "markdown",
   "metadata": {},
   "source": [
    "\n",
    "\n",
    "## 问题 9 \n",
    "\n",
    "> 给定一个n个物品的集合。物体的重量为$w_1, w_2，…、w_n$，物品的价值分别是$v_1、v_2、…v_n$。给你**两个**重量为 $c$ 的背包。如果你带了一个东西，它可以放在一个背包里，也可以放在另一个背包里，但不能同时放在两个背包里。所有权重和价值都是正整数。\n",
    "\n",
    "1. 设计一个时间复杂度为 $O(nc^2)$ 的动态规划算法，确定可以放入两个背包的物体的最大价值。分析算法设计思路，并基于python编程实现\n",
    "2. \\* 修改1中的算法，输出每个背包的内容（物品对应下标）。\n",
    "\n",
    "e.g.: \n",
    "\n",
    "输入 V=[1,3,2,5,8,7], W=[1,3,2,5,8,7], c=7, 输出：最大价值=14，背包装的物品为：[6] [4，3] （同一个背包中物品装入顺序对结果无影响）  \n"
   ]
  },
  {
   "cell_type": "markdown",
   "metadata": {},
   "source": [
    "## idea：此题为大模型辅助完成\n",
    "1. 状态定义\n",
    "设 dp[i][j][k] 表示前 i 个物品，背包1剩余容量为 j，背包2剩余容量为 k 时的最大总价值。\n",
    "\n",
    "2. 状态转移\n",
    "对于每个物品，有三种选择：\n",
    "\n",
    "- 不放入任何背包：dp[i][j][k] = dp[i-1][j][k]\n",
    "- 放入背包1（如果 j ≥ W[i-1]）：dp[i][j][k] = max(dp[i][j][k], dp[i-1][j-W[i-1]][k] + V[i-1])\n",
    "- 放入背包2（如果 k ≥ W[i-1]）：dp[i][j][k] = max(dp[i][j][k], dp[i-1][j][k-W[i-1]] + V[i-1])\n",
    "3. 初始条件\n",
    "dp[0][*][*] = 0，即没有物品时价值为0。\n",
    "4. 目标\n",
    "最终答案为 dp[n][c][c]，即所有物品考虑完后，两个背包容量都为c时的最大价值。\n",
    "5. 回溯路径\n",
    "记录每一步的选择，可以回溯出每个背包装了哪些物品。\n"
   ]
  },
  {
   "cell_type": "code",
   "execution_count": 11,
   "metadata": {},
   "outputs": [
    {
     "name": "stdout",
     "output_type": "stream",
     "text": [
      "最大价值=14，背包1装的物品为：[6]，背包2装的物品为：[3, 4]\n"
     ]
    }
   ],
   "source": [
    "# add your idea here\n",
    "def two_knapsack(V, W, c):\n",
    "    n = len(V)\n",
    "    # dp[i][j][k]：前i个物品，背包1剩余容量j，背包2剩余容量k，最大价值\n",
    "    dp = [[[0]*(c+1) for _ in range(c+1)] for _ in range(n+1)]\n",
    "    # 记录路径\n",
    "    path = [[[None]*(c+1) for _ in range(c+1)] for _ in range(n+1)]\n",
    "    for i in range(1, n+1):\n",
    "        for j in range(c+1):\n",
    "            for k in range(c+1):\n",
    "                # 不选第i个物品\n",
    "                if dp[i-1][j][k] >= dp[i][j][k]:\n",
    "                    dp[i][j][k] = dp[i-1][j][k]\n",
    "                    path[i][j][k] = (j, k, 0)  # 0表示不选\n",
    "                # 放入背包1\n",
    "                if j >= W[i-1]:\n",
    "                    val = dp[i-1][j-W[i-1]][k] + V[i-1]\n",
    "                    if val > dp[i][j][k]:\n",
    "                        dp[i][j][k] = val\n",
    "                        path[i][j][k] = (j-W[i-1], k, 1)  # 1表示放背包1\n",
    "                # 放入背包2\n",
    "                if k >= W[i-1]:\n",
    "                    val = dp[i-1][j][k-W[i-1]] + V[i-1]\n",
    "                    if val > dp[i][j][k]:\n",
    "                        dp[i][j][k] = val\n",
    "                        path[i][j][k] = (j, k-W[i-1], 2)  # 2表示放背包2\n",
    "    # 回溯物品分配\n",
    "    res1, res2 = [], []\n",
    "    i, j, k = n, c, c\n",
    "    while i > 0 and path[i][j][k] is not None:\n",
    "        pj, pk, act = path[i][j][k]\n",
    "        if act == 1:\n",
    "            res1.append(i)  # 从0开始改为从1开始的索引\n",
    "        elif act == 2:\n",
    "            res2.append(i)  # 从0开始改为从1开始的索引\n",
    "        i -= 1\n",
    "        j, k = pj, pk\n",
    "    return dp[n][c][c], res1[::-1], res2[::-1]\n",
    "\n",
    "# 测试\n",
    "V = [1,3,2,5,8,7]\n",
    "W = [1,3,2,5,8,7]\n",
    "c = 7\n",
    "maxv, bag1, bag2 = two_knapsack(V, W, c)\n",
    "print(f\"最大价值={maxv}，背包1装的物品为：{bag1}，背包2装的物品为：{bag2}\")\n",
    "# your algorithm time complexity is: O(nc^2)\n",
    "# your algorithm time complexity is: O(nc^2)"
   ]
  },
  {
   "cell_type": "markdown",
   "metadata": {},
   "source": [
    "## 问题 10 \n",
    "\n",
    "> 给定两个字符串 $x[1..n]$ 和 $y[1..m]$，我们想通过以下操作将 $x$ 变换为 $y$ :\n",
    ">\n",
    "> **插入**：在 $x$ 中插入一个字符(在任何位置)；**删除**：从 $x$ 中删除一个字符(在任何位置)； **替换**：用另一个字符替换 $x$ 中的一个字符。\n",
    ">\n",
    "> 例如: $x = abcd$, $y = bcfe$，\n",
    ">\n",
    "> - 将 $x$ 转换为 $y$ 的一种可能方法是：1. 删除 $x$ 开头的 $a$, $x$变成 $bcd$； 2. 将 $x$ 中的字符 $d$ 替换为字符 $f$。$x$ 变成 $bcf$； 3. 在 $x$ 的末尾插入字符 $e$。$x$ 变成 $bcfe$。\n",
    ">\n",
    "> - 另一种可能的方法：1. 删除 $x$ 开头的 $a$,  $x$ 变成 $bcd$； 2. 在 $x$ 中字符 $d$ 之前插入字符 $f$。$x$ 变成 $bcfd$。3. 将 $x$ 中的字符 $d$ 替换为字符 $e$。$x$ 变成 $bcfe$。\n",
    "\n",
    "设计一个时间复杂度为 $O(mn)$ 的算法，返回将 $x$ 转换为 $y$ 所需的最少操作次数。分析算法设计思路，并基于python编程实现。\n"
   ]
  },
  {
   "cell_type": "markdown",
   "metadata": {},
   "source": [
    "idea：\n",
    "1. 定义状态：使用二维数组dp，其中dp[i][j]表示将x的前i个字符转换为y的前j个字符所需的最少操作次数。\n",
    "\n",
    "2. 初始条件：\n",
    "\n",
    "- dp[i][0] = i：表示将x的前i个字符转换为空字符串需要i次删除操作\n",
    "- dp[0][j] = j：表示将空字符串转换为y的前j个字符需要j次插入操作\n",
    "3. 状态转移：对于每个位置(i,j)，考虑：\n",
    "\n",
    "- 如果x[i-1] == y[j-1]，则dp[i][j] = dp[i-1][j-1]（无需操作）\n",
    "- 否则，取三种操作的最小值：\n",
    "  - 插入：dp[i][j-1] + 1\n",
    "  - 删除：dp[i-1][j] + 1\n",
    "  - 替换：dp[i-1][j-1] + 1\n",
    "4. 结果：dp[m][n]即为所需的最少操作次数。"
   ]
  },
  {
   "cell_type": "code",
   "execution_count": null,
   "metadata": {},
   "outputs": [
    {
     "name": "stdout",
     "output_type": "stream",
     "text": [
      "将字符串 abcd 转换为 bcfe 所需的最少操作次数: 3\n"
     ]
    }
   ],
   "source": [
    "# add your idea here\n",
    "def min_edit_distance(x, y):\n",
    "    m, n = len(x), len(y)\n",
    "    # 创建dp表格\n",
    "    dp = [[0] * (n + 1) for _ in range(m + 1)]\n",
    "    # 初始化边界情况\n",
    "    for i in range(m + 1):\n",
    "        dp[i][0] = i\n",
    "    for j in range(n + 1):\n",
    "        dp[0][j] = j\n",
    "    # 填充dp表格\n",
    "    for i in range(1, m + 1):\n",
    "        for j in range(1, n + 1):\n",
    "            if x[i-1] == y[j-1]:\n",
    "                dp[i][j] = dp[i-1][j-1]\n",
    "            else:\n",
    "                dp[i][j] = 1 + min(\n",
    "                    dp[i-1][j],    # 删除\n",
    "                    dp[i][j-1],    # 插入\n",
    "                    dp[i-1][j-1]   # 替换\n",
    "                )\n",
    "    \n",
    "    return dp[m][n]\n",
    "x = \"abcd\"\n",
    "y = \"bcfe\"\n",
    "print(f\"将字符串 {x} 转换为 {y} 所需的最少操作次数: {min_edit_distance(x, y)}\")\n",
    " \n",
    "# your algorithm time complexity is: O(mn)"
   ]
  }
 ],
 "metadata": {
  "kernelspec": {
   "display_name": "pytorch",
   "language": "python",
   "name": "python3"
  },
  "language_info": {
   "codemirror_mode": {
    "name": "ipython",
    "version": 3
   },
   "file_extension": ".py",
   "mimetype": "text/x-python",
   "name": "python",
   "nbconvert_exporter": "python",
   "pygments_lexer": "ipython3",
   "version": "3.12.0"
  }
 },
 "nbformat": 4,
 "nbformat_minor": 2
}
