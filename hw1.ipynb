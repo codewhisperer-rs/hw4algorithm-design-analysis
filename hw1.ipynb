{
 "cells": [
  {
   "cell_type": "markdown",
   "metadata": {},
   "source": [
    "## algorithm design and anlysis-2025 spring  homework 1 \n",
    "**Deadline**：2025.5.14\n",
    "\n",
    "**name**: \n",
    "\n",
    "\n",
    "\n",
    "\n",
    "note：\n",
    "---\n",
    "1. 带有\\*的题目，申请免上课的同学，必须完成，其他同学选作；\n",
    "2. 请独立完成，如求助了他人或者大模型，请著明，并且不可省略算法分析部分；\n",
    "4. 如若作答有雷同，全部取消成绩；\n",
    "3. 需要书面作答的题目，可以通过引用图片的形式添加，但是注意上传项目时包含所引用的图片的源文件；\n",
    "4. $log_n$ 默认表示$log_2{n}$;"
   ]
  },
  {
   "cell_type": "markdown",
   "metadata": {},
   "source": [
    "### 本次作业基于大模型辅助完成的作业题已在idea处或者code处进行声明"
   ]
  },
  {
   "cell_type": "markdown",
   "metadata": {},
   "source": [
    "## 问题 1\n",
    "\n",
    "对于下面的每一对表达式(A, B), A是否能表示为B的 $\\Theta, \\Omega ,O$形式. 请注意, 这些关系中的零个、一个或多个可能成立。列出所有正确的。经常发生一些学生会,把指示写错, 所以请把关系写完整, 例如: $A = O(B),  A =\\Theta(B)$, 或$A = \\Omega(B)$。\n",
    "\n",
    "1. $A=n^2-100n, B=n^2$\n",
    "2. $A=logn, B=log_{1.2}n$\n",
    "3. $A=3^{2n}, B=2^{4n}$\n",
    "4. $A=2^{logn}, B=n$\n",
    "5. $A=\\log{\\log}{n},B=10^{10^{100}}$\n",
    "\n"
   ]
  },
  {
   "cell_type": "markdown",
   "metadata": {},
   "source": [
    "can refer a handwritten picture, pleas upload the picture in /fig/xxx.png\n",
    "answer:\n",
    "![image](fig/1-1.jpg)"
   ]
  },
  {
   "cell_type": "markdown",
   "metadata": {},
   "source": [
    "## 问题 2：\n",
    "\n",
    "假设有函数 $f$ 和 $g$ 使得 $f(n)$ = $O(g(n))$ 对于下面的每一个陈述, 请判断对错, 如果正确请给出证明, 否则请给出一个反例。\n",
    "\n",
    "1. $\\log{f(n)}$ = $O(\\log(1+g(n)))$\n",
    "2. $3^{f(n)}=O(3^{g(n)})$\n",
    "3. $(f(n))^2=O((g(n))^2)$ \n"
   ]
  },
  {
   "cell_type": "markdown",
   "metadata": {},
   "source": [
    "you can refer a handwritten picture, pleas upload the picture in /fig/xxx.png\n",
    "answer:\n",
    "![image](fig/1-2.jpg)"
   ]
  },
  {
   "cell_type": "markdown",
   "metadata": {},
   "source": [
    "## 问题 3\n",
    "\n",
    "根据下列递归公式, 计算下列 $T(n)$ 对应的的渐近上界。要求所求的边界尽可能的紧（tight）, 请写明步骤。\n",
    "\n",
    "1. $T(1)=1; T(n)=T(n/4)+1$ for $n>1$\n",
    "2. $T(1)=1;T(n)=3T(n/3)+n^2$ for $n>1$\n",
    "3. $T(1)=1;T(n)=T(2n/3)+1$ for $n>1$\n",
    "4. $T(1)=1;T(n)=5T(n/4)+n$ for $n>1$\n",
    "5. $T(n)=1 \\ for\\ n \\le 2 ; T(n)=T(\\sqrt{n})+1 \\ for \\ n>2$\n"
   ]
  },
  {
   "cell_type": "markdown",
   "metadata": {},
   "source": [
    "can refer a handwritten picture, pleas upload the picture in /fig/xxx.png\n",
    "answer:\n",
    "![](fig/1-3.jpg)\n"
   ]
  },
  {
   "cell_type": "markdown",
   "metadata": {},
   "source": [
    "## 问题 4：\n",
    "\n",
    "给定一个包含n个元素的数组 `profits` , 它的第 `i` 个元素 `profits[i]` 表示一支股票第 `i` 天的**收益**（正数表示涨, 负数表示跌）。你只能选择 **某一天** 买入这只股票, 并选择在 **未来的某一个不同的日子** 卖出该股票。\n",
    "\n",
    "1. 设计一个算法来计算你所能获取的最大利润和对应买入和卖出的日期。请分析算法方案, 计算其时间复杂度, 并且使用python编程实现该算法。\n",
    "\n",
    "2. \\* 设计一个时间复杂度为 $O(n)$的算法实现该算法\n",
    "\n",
    "e.g. :\n",
    "---\n",
    "profits=[3,2,1,-7,5,2,-1,3,-1], 第5天买入, 第8天卖出, 收益最大：9\n",
    "\n"
   ]
  },
  {
   "cell_type": "markdown",
   "metadata": {},
   "source": [
    "idea:\n",
    "\n",
    "（1）计算累计价格数组 prices，其中 prices[i] 表示从第0天到第i天的累计价格变化，使用两层嵌套循环，外层循环i表示可能的买入日期，内层循环j表示可能的卖出日期(j > i)，对于每一对(i,j)，计算收益 profit = prices[j] - prices[i]，如果当前收益大于已知的最大收益，则更新最大收益和对应的买入卖出日期。\n",
    "\n",
    "（2）计算累计价格数组 prices，遍历价格数组，同时维护两个关键信息：\n",
    "min_price：到当前为止的最低价格点\n",
    "max_profit：到当前为止能获得的最大利润\n",
    "如果发现更低的价格点，更新 min_price 和对应的买入日期\n",
    "如果当前价格与最低价格的差值大于已知的最大利润，更新最大利润和对应的卖出日期"
   ]
  },
  {
   "cell_type": "code",
   "execution_count": null,
   "metadata": {},
   "outputs": [
    {
     "name": "stdout",
     "output_type": "stream",
     "text": [
      "第4天买入, 第8天卖出, 收益最大：9\n"
     ]
    }
   ],
   "source": [
    "# add your code\n",
    "def max(profits):\n",
    "    if not profits or len(profits) < 2:\n",
    "        return None  \n",
    "\n",
    "    prices = [0] * len(profits)\n",
    "    prices[0] = profits[0]\n",
    "    for i in range(1, len(profits)):\n",
    "        prices[i] = prices[i - 1] + profits[i]\n",
    "\n",
    "    max_profit = float('-inf')\n",
    "    buy_day, sell_day = 0, 0\n",
    "\n",
    "    for i in range(len(prices)):\n",
    "        for j in range(i + 1, len(prices)):\n",
    "            profit = prices[j] - prices[i]\n",
    "            if profit > max_profit:\n",
    "                max_profit = profit\n",
    "                buy_day, sell_day = i, j\n",
    "\n",
    "    return buy_day + 1, sell_day + 1, max_profit \n",
    "profits = [3,2,1,-7,5,2,-1,3,-1]\n",
    "result = max(profits)\n",
    "print(f\"第{result[0]}天买入, 第{result[1]}天卖出, 收益最大：{result[2]}\")\n"
   ]
  },
  {
   "cell_type": "code",
   "execution_count": null,
   "metadata": {},
   "outputs": [
    {
     "name": "stdout",
     "output_type": "stream",
     "text": [
      "第4天买入, 第8天卖出, 收益最大：9\n"
     ]
    }
   ],
   "source": [
    "# an algorithm with O(n)\n",
    "def max(profits):\n",
    "    if not profits or len(profits) < 2:\n",
    "        return None  # 至少需要两天的数据\n",
    "    \n",
    "    # 计算累计价格\n",
    "    prices = [0] * len(profits)\n",
    "    prices[0] = profits[0]\n",
    "    for i in range(1, len(profits)):\n",
    "        prices[i] = prices[i - 1] + profits[i]\n",
    "\n",
    "    # 计算最大收益\n",
    "    min_price = float('inf')\n",
    "    max_profit = float('-inf')\n",
    "    buy_day, sell_day = 0, 0\n",
    "\n",
    "    for i in range(len(prices)):\n",
    "        if prices[i] < min_price:\n",
    "            min_price = prices[i]\n",
    "            buy_day = i  \n",
    "        \n",
    "        if prices[i] - min_price > max_profit:\n",
    "            max_profit = prices[i] - min_price\n",
    "            sell_day = i  \n",
    "    \n",
    "    return buy_day + 1, sell_day + 1, max_profit \n",
    "\n",
    "profits = [3,2,1,-7,5,2,-1,3,-1]\n",
    "result = max(profits)\n",
    "print(f\"第{result[0]}天买入, 第{result[1]}天卖出, 收益最大：{result[2]}\")\n"
   ]
  },
  {
   "cell_type": "markdown",
   "metadata": {},
   "source": [
    "## 问题 5：\n",
    "\n",
    "观察下方的分治算法（divide-and-conquer algorithm）的伪代码, 回答下面问题\n",
    "\n",
    "```latex\n",
    "DoSomething(A,p,r)\n",
    "-----\n",
    "n := r-p+1\n",
    "if n=2 and A[p]>A[r] then\n",
    "    swap A[p] and A[r]\n",
    "else if n >= 3 then\n",
    "    m = ceil(2n/3)\n",
    "    DoSomething(A,p,p+m-1)\n",
    "    DoSomething(A,r-m+1,r)\n",
    "    DoSomething(A,p,p+m-1)  \n",
    "    \n",
    "---\n",
    "first call: DoSomething(A,1,n)\n",
    "```\n",
    "\n",
    "note：$ceil(2n/3)=\\left\\lceil {2n/3} \\right\\rceil$；$:=$ 表示赋值, 等价于 $\\to$；A是一个包含n的整数元素的数组, \n",
    "\n",
    "1. 写出该算法时间复杂度的递归公式, 并求解其对应的渐进表示\n",
    "2. 描述一下该算法的功能, 并判断是否是最高效的解决方案\n",
    "3. 使用python编程实现上述算法或其对应的更高效版本的算法\n"
   ]
  },
  {
   "cell_type": "markdown",
   "metadata": {},
   "source": [
    "1.\n",
    "![](fig/1-4.1.png)"
   ]
  },
  {
   "cell_type": "markdown",
   "metadata": {},
   "source": [
    "2. 算法功能与效率\n",
    "\n",
    "### 功能\n",
    "该算法是一个递归的分治排序算法：\n",
    "1. 对长度为2的子数组直接比较交换\n",
    "2. 对长度≥3的子数组：\n",
    "   - 分割为前 2n/3和后 2n/3\n",
    "   - 递归处理前部、后部，再处理前部\n",
    "\n",
    "### 效率分析\n",
    "- 时间复杂度：O(n^log1.5 n)\n",
    "- 效率较低，不如常见  O(nlog n) 算法\n"
   ]
  },
  {
   "cell_type": "markdown",
   "metadata": {},
   "source": [
    "answer:"
   ]
  },
  {
   "cell_type": "code",
   "execution_count": 1,
   "metadata": {},
   "outputs": [
    {
     "name": "stdout",
     "output_type": "stream",
     "text": [
      "[1, 3, 5, 6, 9]\n"
     ]
    }
   ],
   "source": [
    "# add your code here\n",
    "def mergesort(arr):\n",
    "    if len(arr) > 1:\n",
    "        mid = len(arr) // 2\n",
    "        L = arr[:mid]  \n",
    "        R = arr[mid:]  \n",
    "\n",
    "        mergesort(L)  \n",
    "        mergesort(R)  \n",
    "\n",
    "        i = j = k = 0 \n",
    "\n",
    "      \n",
    "        while i < len(L) and j < len(R):\n",
    "            if L[i] < R[j]:\n",
    "                arr[k] = L[i]\n",
    "                i += 1\n",
    "            else:\n",
    "                arr[k] = R[j]\n",
    "                j += 1\n",
    "            k += 1\n",
    "        while i < len(L):\n",
    "            arr[k] = L[i]\n",
    "            i += 1\n",
    "            k += 1\n",
    "        while j < len(R):\n",
    "            arr[k] = R[j]\n",
    "            j += 1\n",
    "            k += 1\n",
    "arr = [9,3,5,6,1]\n",
    "mergesort(arr)\n",
    "print(arr)\n",
    "# your algorithm time complexity is :O(nlogn)\n"
   ]
  },
  {
   "cell_type": "markdown",
   "metadata": {},
   "source": [
    "## 问题 6：\n",
    "\n",
    "给定一个大小为 `n` 的数组 `nums` , 返回其中的多数元素。多数元素是指在数组中出现次数 **大于** `⌊ n/2 ⌋` 的元素。\n",
    "\n",
    "你可以假设数组是非空的, 并且给定的数组总是存在多数元素。\n",
    "\n",
    "1. 设计一个算法找到给定数组的多数元素, 分析算法设计思路, 计算算法时间复杂度, 使用python编程实现\n",
    "2. \\* 设计时间复杂度为 O(n)、空间复杂度为 O(1) 的算法解决此问题, 分析算法设计思路, 使用python编程实现\n",
    "\n",
    "e.g.:\n",
    "---\n",
    "1. nums=[3,2,3], 返回3\n",
    "2. nums=[2,2,1,1,1,2,2], 返回2\n"
   ]
  },
  {
   "cell_type": "markdown",
   "metadata": {},
   "source": [
    "idea：\n",
    "\n",
    "1.初始化两个数组：\n",
    "一个数组 elements，用来存储数组中已经出现的不同元素。\n",
    "另一个数组 counts，用来记录每个元素出现的次数，与 elements 中的元素一一对应。\n",
    "\n",
    "2.遍历输入数组：\n",
    "对于输入数组 nums 中的每个元素：\n",
    "如果该元素已经存在于 elements 中，找到它在 elements 中的位置，然后将 counts 中对应的计数值加 1。\n",
    "如果该元素不在 elements 中，将其添加到 elements 中，并在 counts 中添加一个初始值为 1 的计数值。\n",
    "\n",
    "3.找到多数元素：\n",
    "遍历完成后，找到 counts 中的最大值，返回对应的 elements 中的元素作为多数元素。"
   ]
  },
  {
   "cell_type": "code",
   "execution_count": 3,
   "metadata": {},
   "outputs": [
    {
     "name": "stdout",
     "output_type": "stream",
     "text": [
      "[3,2,3]返回 3\n",
      "[2,2,1,1,1,2,2]返回 2\n"
     ]
    }
   ],
   "source": [
    "# add your code here\n",
    "def multiElement(nums):\n",
    "    elements = []  \n",
    "    counts = []   \n",
    "    for num in nums:\n",
    "        if num in elements:\n",
    "            index = elements.index(num)  \n",
    "            counts[index] += 1          \n",
    "        else:\n",
    "            elements.append(num)  \n",
    "            counts.append(1)     \n",
    "    max_count = max(counts)       \n",
    "    return elements[counts.index(max_count)]  \n",
    "\n",
    "x=multiElement([3,2,3])  \n",
    "y=multiElement([2,2,1,1,1,2,2]) \n",
    "print(f\"[3,2,3]返回 {x}\")\n",
    "print(f\"[2,2,1,1,1,2,2]返回 {y}\")\n",
    "\n",
    "# your algorithm time complexity is :O(n²)"
   ]
  },
  {
   "cell_type": "markdown",
   "metadata": {},
   "source": [
    "idea for 2\\*：\n",
    "\n",
    "针对问题2的要求，我想的是使用hashmap解决，虽然时间复杂度为O(n),但是空间复杂度并没有达到O(1)，而是O(n).下面是我使用hashmap的思路：\n",
    "\n",
    "1.使用一个hashmap来记录数组中每个元素的出现次数。\n",
    "\n",
    "2.遍历数组时，将每个元素作为键，出现的次数作为值存储到哈希表中。\n",
    "\n",
    "3.如果某个元素的计数超过 n/2，直接返回该元素。"
   ]
  },
  {
   "cell_type": "code",
   "execution_count": 1,
   "metadata": {},
   "outputs": [
    {
     "name": "stdout",
     "output_type": "stream",
     "text": [
      "我的实现\n",
      "[2, 2, 1, 1, 1, 2, 2] 返回 2\n"
     ]
    }
   ],
   "source": [
    "def multielement(nums):\n",
    "    count_map = {}\n",
    "    for num in nums:\n",
    "        count_map[num] = count_map.get(num, 0) + 1\n",
    "        if count_map[num] > len(nums) // 2:\n",
    "            return num\n",
    "nums = [2, 2, 1, 1, 1, 2, 2]\n",
    "print(\"我的实现\")\n",
    "print(\"[2, 2, 1, 1, 1, 2, 2] 返回\",multielement(nums))"
   ]
  },
  {
   "cell_type": "code",
   "execution_count": 2,
   "metadata": {},
   "outputs": [
    {
     "name": "stdout",
     "output_type": "stream",
     "text": [
      "由大模型实现\n",
      "多数元素是: 2\n"
     ]
    }
   ],
   "source": [
    "# algorithm time complexity：O(n), space complexity:O(1)\n",
    "# add your code here\n",
    "#下面这段是由大模型生成，符合空间复杂度为O(1)的要求\n",
    "def majority_element(nums):\n",
    "    # Boyer-Moore 投票算法\n",
    "    candidate = None\n",
    "    count = 0\n",
    "    for num in nums:\n",
    "        if count == 0:\n",
    "            candidate = num\n",
    "        count += 1 if num == candidate else -1\n",
    "    return candidate\n",
    "nums = [2, 2, 1, 1, 1, 2, 2]\n",
    "print(\"由大模型实现\")\n",
    "print(\"多数元素是:\", majority_element(nums))\n"
   ]
  },
  {
   "cell_type": "markdown",
   "metadata": {},
   "source": [
    "## 问题 7：\n",
    "\n",
    "给定一个包含不同整数元素的数组 $ A[1..n]$ ,并且满足条件：$A[1]>A[2]$ 并且 $A[n-1]<A[n]$; 规定：如果一个元素比它两边的邻居元素都小, 即：$A[x]<A[x-1], A[x]<A[x+1]$ , 称这个元素A[x]为“局部最小”。通过遍历一次数组, 我们可以很容易在 $O(n)$的时间复杂度下找到一个局部最小值, \n",
    "\n",
    "\n",
    "1. 分析该问题, 设计一个算法在$O(logn)$的时间复杂度下找到一个局部最小(返回数值), 要求：分析算法设计思路, 并且使用python编程实现\n",
    "2. \\* 设计算法找出所有局部最小值, 分析算法设计思路, 并使用python编程实现\n",
    "\n",
    "e.g.:\n",
    "---\n",
    "A=[9, 3, 7, 2, 1, 4, 5 ] 时,  局部最小元素为 3, 1\n"
   ]
  },
  {
   "cell_type": "markdown",
   "metadata": {},
   "source": [
    "idea：\n",
    "\n",
    "1. 检查中间元素是否是局部最小值\n",
    "\n",
    "2. 如果不是，比较中间元素与其左右邻居：\n",
    "\n",
    "- 如果左边邻居更小，则在左半边继续查、\n",
    "\n",
    "- 如果右边邻居更小，则在右半边继续查找\n",
    "\n",
    "3. 重复直到找到局部最小值\n",
    "\n"
   ]
  },
  {
   "cell_type": "code",
   "execution_count": null,
   "metadata": {},
   "outputs": [
    {
     "name": "stdout",
     "output_type": "stream",
     "text": [
      "1\n"
     ]
    }
   ],
   "source": [
    "# add your code here\n",
    "def minimum(arr):\n",
    "    left, right = 0, len(arr) - 1\n",
    "    \n",
    "    while left <= right:\n",
    "        mid = (left + right) // 2\n",
    "        if (mid == 0 or arr[mid] < arr[mid - 1]) and (mid == len(arr) - 1 or arr[mid] < arr[mid + 1]):\n",
    "            return arr[mid]\n",
    "        if mid > 0 and arr[mid - 1] < arr[mid]:\n",
    "            right = mid - 1\n",
    "        else:\n",
    "            left = mid + 1\n",
    "    \n",
    "    return None\n",
    "A = [9, 3, 7, 2, 1, 4, 5]\n",
    "print(minimum(A))  \n",
    "# your algorithm time complexity is :O(log n)"
   ]
  },
  {
   "cell_type": "markdown",
   "metadata": {},
   "source": [
    "idea:\n",
    "\n",
    "要找出所有局部最小值，我们需要遍历整个数组，检查每个元素（除了第一个和最后一个）是否满足局部最小值的条件。这是一个O(n)的操作，因为我们需要检查每个元素。"
   ]
  },
  {
   "cell_type": "code",
   "execution_count": null,
   "metadata": {},
   "outputs": [
    {
     "name": "stdout",
     "output_type": "stream",
     "text": [
      "局部最小元素为: [3, 1]\n"
     ]
    }
   ],
   "source": [
    "# add your code here\n",
    "def allminima(arr):\n",
    "    if len(arr) < 2:\n",
    "        return []\n",
    "    \n",
    "    local_minima = []\n",
    "\n",
    "    for i in range(1, len(arr) - 1):\n",
    "        if arr[i] < arr[i - 1] and arr[i] < arr[i + 1]:\n",
    "            local_minima.append(arr[i])\n",
    "    return local_minima\n",
    "\n",
    "A = [9, 3, 7, 2, 1, 4, 5]\n",
    "print(\"局部最小元素为:\", allminima(A))  # 输出 [3, 1]\n",
    "# your algorithm time complexity is :O(n)"
   ]
  },
  {
   "cell_type": "markdown",
   "metadata": {},
   "source": [
    "## 问题 8：\n",
    "\n",
    "给定包含n个不同数字的一组数, 寻找一种基于比较的算法在这组数中找到k个最小的数字, 并按顺序输出它们。\n",
    "\n",
    "1. 将n个数先进行排序, 然后按顺序输出最小的k个数。要求：选择合适的排序算法实现上述操作, 计算算法时间复杂度, 并使用python编程实现。\n",
    "2. 建立一个包含这n个数的堆（heap）, 并且调用 k 次Extract-min 按顺序输出最小的k个数。使用往空堆中不断插入元素的方法建立堆, 分析这种方法建堆的时间复杂度, 并使用python编程实现\n",
    "3. \\* 假设数组中包含的数据总数目超过了计算机的存储能力, 请设计一个算法, 找到这堆数据的前k小的数值, 计算时间复杂度, 并使用python实现该算法, 假设计算机一定能存储k个数据。\n",
    "\n",
    "e.g.：\n",
    "---\n",
    "数组arr=[5,4,3,2,6,1,88,33,22,107] 的前3个最小数据为：1, 2, 3\n"
   ]
  },
  {
   "cell_type": "markdown",
   "metadata": {},
   "source": [
    "idea：\n",
    "1. 直接使用sorted函数\n",
    "2. 使用堆排序\n",
    "3. 核心思想是最大堆（Max-Heap）维护当前最小的k个元素，结合数据流处理的技术，当数据流中的元素大于堆顶元素时，将堆顶元素替换为该元素，并重新调整堆。（大模型解决）"
   ]
  },
  {
   "cell_type": "code",
   "execution_count": null,
   "metadata": {},
   "outputs": [
    {
     "name": "stdout",
     "output_type": "stream",
     "text": [
      "问题1: [1, 2, 3]\n",
      "问题2: [1, 2, 3]\n",
      "问题3: [1, 2, 3]\n"
     ]
    }
   ],
   "source": [
    "# add your code here\n",
    "def sort(arr, k):\n",
    "    sorted_arr = sorted(arr)\n",
    "    return sorted_arr[:k]\n",
    "\n",
    "import heapq\n",
    "\n",
    "def heap(arr, k):\n",
    "    heap = []\n",
    "    for num in arr:\n",
    "        heapq.heappush(heap, num)\n",
    "    \n",
    "    result = []\n",
    "    for _ in range(k):\n",
    "        result.append(heapq.heappop(heap))\n",
    "    return result\n",
    "\n",
    "import heapq\n",
    "def find_k_smallest_large_data(data_stream, k):\n",
    "    max_heap = []\n",
    "    \n",
    "    for num in data_stream:\n",
    "        if len(max_heap) < k:\n",
    "            heapq.heappush(max_heap, -num)\n",
    "        else:\n",
    "            if -num > max_heap[0]:\n",
    "                heapq.heappop(max_heap)\n",
    "                heapq.heappush(max_heap, -num)\n",
    "    result = sorted([-x for x in max_heap])\n",
    "    return result\n",
    "\n",
    "arr=[5,4,3,2,6,1,88,33,22,107]\n",
    "sort(arr,3)\n",
    "heap(arr,3)\n",
    "find_k_smallest_large_data(arr,3)\n",
    "\n",
    "print(\"问题1:\", sort(arr, 3))\n",
    "print(\"问题2:\", heap(arr, 3))\n",
    "print(\"问题3:\", find_k_smallest_large_data(arr, 3))\n",
    "# your algorithm time complexity is :\n",
    "# 问题1: O(n log n)\n",
    "# 问题2: O(n log n)\n",
    "# 问题3: O(n log k)"
   ]
  },
  {
   "cell_type": "markdown",
   "metadata": {},
   "source": [
    "## 问题 9：\n",
    "\n",
    "**选择问题**:给定一个包含n个未排序值的数组A和一个$k≤n$的整数, 返回A中最小的第k项。\n",
    "\n",
    "在课堂上, 学了一个简单的O(n)随机算法来解决选择问题。事实上还有一种更复杂的最坏情况下时间复杂度为$O(n)$ 的选择算法。假设使用一个黑盒过程来实现这个O(n)选择算法: 给定一个数组A、 $p < r$ 和 k,  $BB(A, p, r, k)$ 可以在$O(r−p+ 1)$时间内找到并报告$A[p..r]$中第k小的项的下标。假设你可以在线性时间内处理Partition过程。\n",
    "\n",
    "1. 请分析如何修改 Quicksork 算法可以使其最差情况下的运行时间为 $O(nlogn)$, 使用伪代码实现, 并分析为何修改后的版本最差情况的运行时间为$O(nlogn)$\n",
    "\n",
    "note: 伪代码中, 你可以直接调用用` BB(A,p,r,k)`这个函数用于表示在最坏情况下时间复杂度为$O(n)$的选择算法；\n",
    "\n",
    "\n",
    "\n",
    "2. 找到一个更好的算法报告数组A中的前k小的项, 使用伪代码表示你的算法, 并分析你算法的时间复杂度。\n",
    "\n",
    "举例：A=[13, 3, 7, 9, 11, 1, 15, 2, 8, 10, 12, 16, 14, 5], 当k=4时, 应该报告1, 2, 3, 4\n",
    "\n",
    "note： 最直观的方法就是先将数组A排序, 然后从左向右报告其前k项, 这样操作的时间复杂度为$O(nlogn)$. 调用用` BB(A,p,r,k)`设计一个算法使其报告无序数组A的前k项, 满足时间复杂度好于$\\Theta(nlogn)$, 并且当$k=\\sqrt{n}$时, 你设计的算法时间复杂度应该为$\\Theta(n)$.\n",
    "\n",
    "\n",
    "\n",
    "3. 给定一个大小为n的数组, 找到一个 时间复杂度为$O(n log k)$ 的算法, 该算法将A中的元素重新排序, 使它们被划分为k个部分, 每个部分的元素小于或等于下一部分的元素。假设n和k都是2的幂。使用伪代码表示你的算法, 并分析时间复杂度。\n",
    "\n",
    "e.g.:\n",
    "---\n",
    "数组：[1,  3,  5,  7,  9,  11,  13,  15,  2,  4,  6,  8,  10,  12,  16,  14], k=4, \n",
    "\n",
    "对应重新排序的数组为：[1,  3,  2,  4]  [7,  6,  5,  8]  [12,  11,  10,  9]  [13,  14,  16,  15]\n",
    "\n",
    "\n"
   ]
  },
  {
   "cell_type": "markdown",
   "metadata": {},
   "source": [
    "idea：\n",
    "*此题有大模型辅助完成*\n",
    "1. 使用线性时间选择算法（BB）来选择中位数作为pivot，保证每次划分都能将数组均匀分成两部分。\n",
    "2. 直接调用BB函数找到第k小的元素（记为x），然后遍历数组收集所有≤x的元素（若有多于k个，需调整）。这种方法的时间复杂度为O(n) + O(n) = O(n)。\n",
    "3. 利用分治策略和线性时间选择算法：\n",
    "- 使用BB找到全局的中位数，将数组分为两部分（≤中位数和>中位数）。\n",
    "- 递归地对两部分继续划分，直到划分为k个部分（k是2的幂，每次划分将部分数翻倍）。"
   ]
  },
  {
   "cell_type": "markdown",
   "metadata": {},
   "source": [
    "# add your pseudo-code here\n",
    "```plaintext\n",
    "1. QuickSortBB(A, p, r):\n",
    "    if p < r:\n",
    "        // 使用BB选择中位数作为pivot\n",
    "        median_pos = BB(A, p, r, (r - p + 1) / 2)\n",
    "        swap(A[median_pos], A[r])  // 将中位数放到最后作为pivot\n",
    "        q = Partition(A, p, r)     // 划分\n",
    "        ModifiedQuickSort(A, p, q - 1)\n",
    "        ModifiedQuickSort(A, q + 1, r)\n",
    "```\n",
    "每次划分后，左右子数组的大小最多为n/2。\n",
    "递归深度为O(log n)。\n",
    "每次递归调用BB的时间为O(n)。\n",
    "总时间复杂度：T(n) = 2T(n/2) + O(n) = O(n log n)。\n",
    "\n",
    "```plaintext\n",
    "2.FindTopK(A, k):\n",
    "    // 找到第k小的元素\n",
    "    kth_pos = BB(A, 0, n-1, k)\n",
    "    x = A[kth_pos]\n",
    "    \n",
    "    // 收集所有≤x的元素\n",
    "    result = []\n",
    "    count = 0\n",
    "    for num in A:\n",
    "        if num ≤ x:\n",
    "            result.append(num)\n",
    "            count += 1\n",
    "    \n",
    "    // 若有多于k个≤x的元素，需去掉多余的（即等于x的较大者）\n",
    "    if count > k:\n",
    "        result.sort()  // 仅对少量数据排序\n",
    "        result = result[:k]\n",
    "    \n",
    "    return result\n",
    "```\n",
    "调用BB：O(n)。\n",
    "遍历数组收集元素：O(n)。\n",
    "若需排序，排序最多k个元素：O(k log k)。\n",
    "当k = √n时，总时间复杂度：O(n) + O(√n log √n) = O(n)。\n",
    "\n",
    "```plaintext\n",
    "3. PartitionK(A, p, r, k):\n",
    "    if k == 1:\n",
    "        return [A[p..r]]\n",
    "    \n",
    "    // 找到中位数并划分\n",
    "    median_pos = BB(A, p, r, (r - p + 1) / 2)\n",
    "    swap(A[median_pos], A[r])\n",
    "    q = Partition(A, p, r)\n",
    "    \n",
    "    // 递归划分左右两部分\n",
    "    left_parts = PartitionK(A, p, q - 1, k / 2)\n",
    "    right_parts = PartitionK(A, q + 1, r, k / 2)\n",
    "    \n",
    "    return left_parts + right_parts\n",
    "```\n",
    "每次划分时间为O(n)。\n",
    "递归深度为O(log k)（因为k是2的幂）。\n",
    "总时间复杂度：T(n) = 2T(n/2) + O(n) = O(n log k)。\n",
    "\n",
    "\n"
   ]
  },
  {
   "cell_type": "markdown",
   "metadata": {},
   "source": [
    "## 问题 10：\n",
    "\n",
    "给定一个包含m个**字符串**的数组A, 其中不同的字符串可能有不同的字符数, 但数组中所有字符串的字符总数为n。设计一个算法在 $O(n)$ 时间内对字符串进行排序, 分析算法设计方案, 计算其时间复杂度, 并基于python编程实现该算法。请注意, 假设字符串只包含\"a\",\"b\",...,\"z\", \n",
    "\n",
    "\n",
    "\n",
    "举例1：数组A=[\"a\", \"da\", \"bde\", \"ab\", \"bc\", \"abdc\", \"cdba\"], 排序后的数组应该为：['a', 'ab', 'abdc', 'bc', 'bde', 'cdba', 'da']\n",
    "\n",
    "\n",
    "\n",
    "举例2：数组A=['ab', 'a', 'b', 'abc', 'ba', 'c'], 排序后的数组应该为：\n",
    "\n",
    "['a', 'ab', 'abc', 'b', 'ba', 'c']\n",
    "\n",
    "\n",
    "\n",
    "举例3：数组A=['aef', 'yzr', 'wr', 'ab', 'bhjc', 'lkabdc', 'pwcdba'],  排序后的数组应该为：['ab', 'aef', 'bhjc', 'lkabdc', 'pwcdba', 'wr', 'yzr']\n",
    "\n",
    "\n",
    "\n",
    "note：\n",
    "\n",
    "-  两个字符之间的比较可以考虑比较他们对应的ASCII码值；\n",
    "- python中可以使用`ord(\"a\")`返回字符 “a”对应的ASCII值"
   ]
  },
  {
   "cell_type": "markdown",
   "metadata": {},
   "source": [
    "idea:\n",
    "1. 按字符串长度分组：首先把所有字符串按长度分组，因为相同长度的字符串才能直接比较。\n",
    "2. 从最后一位开始排序：对每组相同长度的字符串，使用基数排序从最后一个字符开始向前比较。\n",
    "3. 合并结果：最后把所有分组按长度顺序合并起来。"
   ]
  },
  {
   "cell_type": "code",
   "execution_count": null,
   "metadata": {},
   "outputs": [
    {
     "name": "stdout",
     "output_type": "stream",
     "text": [
      "排序后的字符串 A: ['a', 'ab', 'bc', 'da', 'bde', 'abdc', 'cdba']\n",
      "排序后的字符串 B: ['a', 'b', 'c', 'ab', 'ba', 'abc']\n",
      "排序后的字符串 C: ['ab', 'wr', 'aef', 'yzr', 'bhjc', 'lkabdc', 'pwcdba']\n"
     ]
    }
   ],
   "source": [
    "# add your code here\n",
    "def simple(arr):\n",
    "    max_len = max(len(s) for s in arr) if arr else 0\n",
    "    buckets = [[] for _ in range(max_len + 1)]\n",
    "    \n",
    "    for s in arr:\n",
    "        buckets[len(s)].append(s)\n",
    "    # 对每个长度的字符串组进行基数排序\n",
    "    for length in range(max_len, 0, -1):\n",
    "        if not buckets[length]:\n",
    "            continue\n",
    "        # 对当前长度的字符串进行排序\n",
    "        for pos in range(length-1, -1, -1):\n",
    "            # 使用计数排序对当前字符位置排序\n",
    "            count = [[] for _ in range(26)]\n",
    "            for s in buckets[length]:\n",
    "                if pos < len(s):\n",
    "                    char = s[pos]\n",
    "                    idx = ord(char) - ord('a')\n",
    "                else:\n",
    "                    idx = 0  \n",
    "                count[idx].append(s)\n",
    "            # 重新填充桶\n",
    "            buckets[length] = []\n",
    "            for char_list in count:\n",
    "                buckets[length].extend(char_list)\n",
    "    \n",
    "    # 合并所有长度的字符串\n",
    "    result = []\n",
    "    for length in range(1, max_len + 1):\n",
    "        result.extend(buckets[length])\n",
    "    \n",
    "    return result\n",
    "A=[\"a\", \"da\", \"bde\", \"ab\", \"bc\", \"abdc\", \"cdba\"]\n",
    "B=['ab', 'a', 'b', 'abc', 'ba', 'c']\n",
    "C=['aef', 'yzr', 'wr', 'ab', 'bhjc', 'lkabdc', 'pwcdba']\n",
    "print(\"排序后的字符串 A:\", simple(A))\n",
    "print(\"排序后的字符串 B:\", simple(B))\n",
    "print(\"排序后的字符串 C:\", simple(C))\n",
    "# your algorithm time complexity is :O(nk)"
   ]
  }
 ],
 "metadata": {
  "kernelspec": {
   "display_name": "pytorch",
   "language": "python",
   "name": "python3"
  },
  "language_info": {
   "codemirror_mode": {
    "name": "ipython",
    "version": 3
   },
   "file_extension": ".py",
   "mimetype": "text/x-python",
   "name": "python",
   "nbconvert_exporter": "python",
   "pygments_lexer": "ipython3",
   "version": "3.12.0"
  }
 },
 "nbformat": 4,
 "nbformat_minor": 2
}
